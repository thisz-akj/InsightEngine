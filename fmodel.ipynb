{
 "cells": [
  {
   "cell_type": "code",
   "execution_count": 17,
   "id": "35da2f7a",
   "metadata": {},
   "outputs": [],
   "source": [
    "import pandas as pd \n",
    "df=pd.read_csv(\"filtered_dataset2.csv\")#importing training data"
   ]
  },
  {
   "cell_type": "code",
   "execution_count": 18,
   "id": "ba8b6655",
   "metadata": {},
   "outputs": [],
   "source": [
    "import re #text pre-processing\n",
    "def clean_description(text):\n",
    "    if pd.isna(text):\n",
    "        return \"\"\n",
    "    return re.sub(r'[\\n\\r\\t\\/]+', ' ', text).strip()\n",
    "df['description'] = df['description'].apply(clean_description)\n",
    "df = df[df['description'].str.strip() != '']"
   ]
  },
  {
   "cell_type": "code",
   "execution_count": 19,
   "id": "f580ab48",
   "metadata": {},
   "outputs": [],
   "source": [
    "def split_entity_value(value):\n",
    "    match = re.match(r'(\\d+\\.?\\d*)\\s*(\\w+)', value)  # Matches number followed by a unit\n",
    "    if match:\n",
    "        return match.group(1), match.group(2)  # Return number and unit as a tuple\n",
    "    return None, None  # Return None if no match is found\n",
    "\n",
    "# Apply the function to the entity_value column#seperating units and values\n",
    "df['value'], df['unit'] = zip(*df['entity_value'].apply(split_entity_value))\n",
    "df.dropna(inplace=True)"
   ]
  },
  {
   "cell_type": "code",
   "execution_count": 20,
   "id": "ee915eaf-bc76-463d-9cc5-67bd1b495231",
   "metadata": {},
   "outputs": [],
   "source": [
    "df.dropna(inplace=True)\n",
    "df['description'] = df['description'].fillna('')"
   ]
  },
  {
   "cell_type": "code",
   "execution_count": 22,
   "id": "0abbc045",
   "metadata": {},
   "outputs": [
    {
     "name": "stderr",
     "output_type": "stream",
     "text": [
      "/home/mars/.local/lib/python3.8/site-packages/xgboost/core.py:158: UserWarning: [21:37:26] WARNING: /workspace/src/learner.cc:740: \n",
      "Parameters: { \"use_label_encoder\" } are not used.\n",
      "\n",
      "  warnings.warn(smsg, UserWarning)\n"
     ]
    },
    {
     "name": "stdout",
     "output_type": "stream",
     "text": [
      "F1 Score: 0.7431095862827195\n"
     ]
    }
   ],
   "source": [
    "import pandas as pd\n",
    "from sklearn.model_selection import train_test_split\n",
    "from sklearn.feature_extraction.text import TfidfVectorizer\n",
    "from sklearn.preprocessing import LabelEncoder\n",
    "from sklearn.ensemble import RandomForestRegressor, RandomForestClassifier\n",
    "from sklearn.metrics import mean_absolute_error, f1_score\n",
    "import scipy.sparse as sp\n",
    "import xgboost as xgb\n",
    "# Feature Engineering\n",
    "tfidf = TfidfVectorizer()\n",
    "X_description = tfidf.fit_transform(df['description'])\n",
    "label_encoder = LabelEncoder()\n",
    "X_entity_name = label_encoder.fit_transform(df['entity_name']).reshape(-1, 1)\n",
    "\n",
    "# Combine features\n",
    "X_entity_name_sparse = sp.csr_matrix(X_entity_name)\n",
    "X= sp.hstack((X_description, X_entity_name_sparse))\n",
    "\n",
    "# Prepare target variables\n",
    "y_value = df['value'].astype(float)\n",
    "y_unit = df['unit']\n",
    "\n",
    "# Train-test split\n",
    "X_train, X_test, y_value_train, y_value_test, y_unit_train, y_unit_test = train_test_split(\n",
    "    X, y_value, y_unit, test_size=0.2, random_state=42)\n",
    "\n",
    "# Model for value prediction\n",
    "model_value = RandomForestRegressor()\n",
    "model_value.fit(X_train, y_value_train)\n",
    "y_value_pred = model_value.predict(X_test)\n",
    "\n",
    "y_encoded = label_encoder.fit_transform(y_unit_train)\n",
    "# Model for unit prediction\n",
    "model_unit =xgb.XGBClassifier(\n",
    "    objective='multi:softmax',  # Multi-class classification\n",
    "    num_class=len(label_encoder.classes_),  # Number of unique classes\n",
    "    use_label_encoder=False,\n",
    "    eval_metric='mlogloss'\n",
    ")\n",
    "\n",
    "model_unit.fit(X_train, y_encoded)\n",
    "y_unit_pred = model_unit.predict(X_test)\n",
    "y_unit_pred_original = label_encoder.inverse_transform(y_unit_pred)\n",
    "#model evaluation \n",
    "f1 = f1_score(y_unit_test, y_unit_pred_original, average='weighted')\n",
    "print(f'F1 Score: {f1}')\n"
   ]
  },
  {
   "cell_type": "code",
   "execution_count": null,
   "id": "df7a19a6",
   "metadata": {},
   "outputs": [],
   "source": []
  }
 ],
 "metadata": {
  "kernelspec": {
   "display_name": "Python 3 (ipykernel)",
   "language": "python",
   "name": "python3"
  },
  "language_info": {
   "codemirror_mode": {
    "name": "ipython",
    "version": 3
   },
   "file_extension": ".py",
   "mimetype": "text/x-python",
   "name": "python",
   "nbconvert_exporter": "python",
   "pygments_lexer": "ipython3",
   "version": "3.9.13"
  }
 },
 "nbformat": 4,
 "nbformat_minor": 5
}
